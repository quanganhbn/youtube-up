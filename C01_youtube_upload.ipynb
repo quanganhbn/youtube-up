{
  "nbformat": 4,
  "nbformat_minor": 0,
  "metadata": {
    "colab": {
      "name": "C01 youtube upload.ipynb",
      "provenance": [],
      "collapsed_sections": []
    },
    "kernelspec": {
      "name": "python3",
      "display_name": "Python 3"
    }
  },
  "cells": [
    {
      "cell_type": "code",
      "metadata": {
        "id": "hlI3bbxyBDq_",
        "cellView": "form"
      },
      "source": [
        "#@markdown <h2><b>←</b>01. ឵឵Click Here to Mount your Google Drive</h2>\n",
        "#@markdown <h5><i>(Provided by Google)</i></h5>\n",
        "from google.colab import drive\n",
        "drive.mount('/content/drive')"
      ],
      "execution_count": null,
      "outputs": []
    },
    {
      "cell_type": "code",
      "metadata": {
        "id": "ottnN_Bw91wn",
        "cellView": "both"
      },
      "source": [
        "#@markdown <h2><b>←</b> ឵឵0឵឵2឵឵.឵឵ ឵឵Clone youtube .git</h2>\n",
        "!git clone https://github.com/agent87/youtube_uploader.git"
      ],
      "execution_count": null,
      "outputs": []
    },
    {
      "cell_type": "code",
      "metadata": {
        "id": "oqqln-YS9613",
        "cellView": "form"
      },
      "source": [
        " #@markdown <h2><b>←</b> ឵឵0឵឵3.឵឵ ឵឵Setup</h2>\n",
        "!cd youtube_uploader\n",
        "!python youtube_uploader/setup.py"
      ],
      "execution_count": null,
      "outputs": []
    },
    {
      "cell_type": "code",
      "metadata": {
        "id": "k8WM7x0aBsQR",
        "cellView": "form"
      },
      "source": [
        "#@markdown <h3><b><link>https://developers.google.com/drive/api/v3/quickstart/python</link></h3>\n",
        "#@markdown <h3><b><link>https://console.developers.google.com/apis/library?supportedpurview=project&q=youtube</link></h3>\n",
        "#@markdown <h3><b>←</b> 04. Upload File \"credentials.json\" Vừa Tải Xuống</h3>\n",
        "\n",
        "\n",
        "from google.colab import files\n",
        "uploaded = files.upload()"
      ],
      "execution_count": null,
      "outputs": []
    },
    {
      "cell_type": "code",
      "metadata": {
        "id": "oFaK1iS199JY",
        "cellView": "form"
      },
      "source": [
        "#@markdown <h2><b>←</b> ឵឵0឵឵5. Nhập /content/credentials.json</h2>\n",
        "#@markdown <p>/content/credentials.json</p>\n",
        "!python2 youtube_uploader/upload.py"
      ],
      "execution_count": null,
      "outputs": []
    }
  ]
}